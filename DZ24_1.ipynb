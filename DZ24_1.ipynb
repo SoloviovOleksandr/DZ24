{
 "cells": [
  {
   "cell_type": "code",
   "execution_count": null,
   "id": "288d1728",
   "metadata": {},
   "outputs": [],
   "source": [
    "P(I) = 40/100 = 0.4\n",
    "P(II) = 60/100 = 0.6\n",
    "P(δ/I) = 0.1\n",
    "P(δ/II) = 0.2\n",
    "P(δ) = P(I) * P(δ/I) + P(II) * P(δ/II) = 0.4 * 0.1 + 0.6 * 0.2 = 0.16\n",
    "P(I/δ) = P(I) * P(δ/I) / P(δ) = 0.25\n"
   ]
  }
 ],
 "metadata": {
  "kernelspec": {
   "display_name": "Python 3 (ipykernel)",
   "language": "python",
   "name": "python3"
  },
  "language_info": {
   "codemirror_mode": {
    "name": "ipython",
    "version": 3
   },
   "file_extension": ".py",
   "mimetype": "text/x-python",
   "name": "python",
   "nbconvert_exporter": "python",
   "pygments_lexer": "ipython3",
   "version": "3.9.13"
  }
 },
 "nbformat": 4,
 "nbformat_minor": 5
}
