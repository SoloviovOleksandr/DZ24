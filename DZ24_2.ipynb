{
 "cells": [
  {
   "cell_type": "code",
   "execution_count": null,
   "id": "78c85439",
   "metadata": {},
   "outputs": [],
   "source": [
    "D(x) = M(x²)- M²(x)\n",
    "M²(x) = 1000 * 0.5 + 1500 * 0.3 + 2000 * 0.2 = 500 + 450 + 400 = 1350 = 1822500\n",
    "M(x²) = 1000² *0.5 + 1500² * 0.3 + 2000² * 0.2 = 1975000\n",
    "D(x) = 152500\n",
    "б(x) =390.5\n",
    "M²(y) = 1000*0.4 + 1500*0.4 + 2000*0.2 = 1350 = 1822500\n",
    "M(y²) = 1000²*0.4 + 1500²*0.4 + 2000²*0.2 = 1912500\n",
    "D(y) = 90000\n",
    "б(y) = 300\n",
    "б(x)>б(y)\n",
    "Випуск товарів х більш ризикований"
   ]
  }
 ],
 "metadata": {
  "kernelspec": {
   "display_name": "Python 3 (ipykernel)",
   "language": "python",
   "name": "python3"
  },
  "language_info": {
   "codemirror_mode": {
    "name": "ipython",
    "version": 3
   },
   "file_extension": ".py",
   "mimetype": "text/x-python",
   "name": "python",
   "nbconvert_exporter": "python",
   "pygments_lexer": "ipython3",
   "version": "3.9.13"
  }
 },
 "nbformat": 4,
 "nbformat_minor": 5
}
